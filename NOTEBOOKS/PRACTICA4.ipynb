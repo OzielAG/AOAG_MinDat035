{
 "cells": [
  {
   "cell_type": "code",
   "execution_count": 1,
   "id": "6b32b917",
   "metadata": {},
   "outputs": [],
   "source": [
    "import pandas as pd\n",
    "import scipy.stats as stats\n",
    "import seaborn as sns\n",
    "import matplotlib.pyplot as plt"
   ]
  },
  {
   "cell_type": "markdown",
   "id": "641f23c0",
   "metadata": {},
   "source": [
    "Hipotesis: En esta practica se busca comparar la media de la calificación general (overall) entre las posiciones ST, CM, CB y GK para demostrar que la posición es una caracteristica que hace significativa la diferencia en el overall, esto con una prueba ANOVA"
   ]
  },
  {
   "cell_type": "code",
   "execution_count": 2,
   "id": "b9599c03",
   "metadata": {},
   "outputs": [],
   "source": [
    "# Cargar datos\n",
    "df = pd.read_csv(r\"C:\\Users\\angel\\OneDrive\\Escritorio\\OCTAVO SEM\\MINERIA DE DATOS\\REPOSITORIO\\AOAG_MinDat035\\DATASET\\players_20.csv\")\n",
    "df = df[df['player_positions'].isin(['ST', 'CM', 'CB', 'GK'])].copy()\n",
    "df['main_position'] = df['player_positions'].str.split(',').str[0]"
   ]
  },
  {
   "cell_type": "code",
   "execution_count": 3,
   "id": "bf6ecb4a",
   "metadata": {},
   "outputs": [
    {
     "name": "stdout",
     "output_type": "stream",
     "text": [
      "ANOVA F: 82.35103226725758\n",
      "p-value: 2.3300634617555143e-52\n"
     ]
    }
   ],
   "source": [
    "# Agrupar los valores por posición\n",
    "groups = [group['overall'].values for name, group in df.groupby('main_position')]\n",
    "\n",
    "# Aplicar ANOVA\n",
    "anova_result = stats.f_oneway(*groups)\n",
    "\n",
    "print(\"ANOVA F:\", anova_result.statistic)\n",
    "print(\"p-value:\", anova_result.pvalue)"
   ]
  },
  {
   "cell_type": "code",
   "execution_count": 4,
   "id": "dbf30a9b",
   "metadata": {},
   "outputs": [
    {
     "name": "stdout",
     "output_type": "stream",
     "text": [
      "Kruskal-Wallis H: 249.10459958510432\n",
      "p-value: 1.02208607192066e-53\n"
     ]
    }
   ],
   "source": [
    "kruskal_result = stats.kruskal(*groups)\n",
    "\n",
    "print(\"Kruskal-Wallis H:\", kruskal_result.statistic)\n",
    "print(\"p-value:\", kruskal_result.pvalue)"
   ]
  },
  {
   "cell_type": "code",
   "execution_count": 5,
   "id": "3bea404e",
   "metadata": {},
   "outputs": [
    {
     "name": "stdout",
     "output_type": "stream",
     "text": [
      "T-test t: 5.301597870968893\n",
      "p-value: 1.2119617771333973e-07\n"
     ]
    }
   ],
   "source": [
    "# Comparando dos posiciones\n",
    "st = df[df['main_position'] == 'ST']['overall']\n",
    "gk = df[df['main_position'] == 'GK']['overall']\n",
    "\n",
    "t_result = stats.ttest_ind(st, gk, equal_var=False)\n",
    "\n",
    "print(\"T-test t:\", t_result.statistic)\n",
    "print(\"p-value:\", t_result.pvalue)"
   ]
  },
  {
   "cell_type": "markdown",
   "id": "0699a519",
   "metadata": {},
   "source": [
    "Se aplicó un (ANOVA) para comparar la media de la calificación general (overall) entre las posiciones de jugador ST (delantero centro), CM (centrocampista), CB (defensa central) y GK (portero).\n",
    "El resultado fue un estadístico F de 82.35 con un valor p de 2.33 × 10⁻⁵², lo que indica una diferencia altamente significativa entre los grupos.\n",
    "Por lo tanto, se concluye que la posición principal influye considerablemente en la calificación general de los jugadores"
   ]
  }
 ],
 "metadata": {
  "kernelspec": {
   "display_name": "Python 3",
   "language": "python",
   "name": "python3"
  },
  "language_info": {
   "codemirror_mode": {
    "name": "ipython",
    "version": 3
   },
   "file_extension": ".py",
   "mimetype": "text/x-python",
   "name": "python",
   "nbconvert_exporter": "python",
   "pygments_lexer": "ipython3",
   "version": "3.10.11"
  }
 },
 "nbformat": 4,
 "nbformat_minor": 5
}
